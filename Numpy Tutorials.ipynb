{
 "cells": [
  {
   "cell_type": "markdown",
   "metadata": {},
   "source": [
    "# Basic Numpy"
   ]
  },
  {
   "cell_type": "code",
   "execution_count": 78,
   "metadata": {},
   "outputs": [
    {
     "name": "stdout",
     "output_type": "stream",
     "text": [
      "[1 2 3 4 5 6]\n",
      "<class 'numpy.ndarray'>\n"
     ]
    }
   ],
   "source": [
    "# Create an 1d array from a list\n",
    "import numpy as np\n",
    "list1 = [1,2,3,4,5,6]\n",
    "arr1 = np.array(list1)\n",
    "print(arr1)\n",
    "print(type(arr1))"
   ]
  },
  {
   "cell_type": "code",
   "execution_count": 79,
   "metadata": {},
   "outputs": [
    {
     "data": {
      "text/plain": [
       "array([3, 4, 5, 6, 7, 8])"
      ]
     },
     "execution_count": 79,
     "metadata": {},
     "output_type": "execute_result"
    }
   ],
   "source": [
    "# Add 2 to each element of arr1d\n",
    "arr1 + 2"
   ]
  },
  {
   "cell_type": "code",
   "execution_count": 80,
   "metadata": {},
   "outputs": [
    {
     "name": "stdout",
     "output_type": "stream",
     "text": [
      "[[1 2 3]\n",
      " [4 5 6]\n",
      " [7 8 0]]\n",
      "<class 'numpy.ndarray'>\n",
      "[[1. 2. 3.]\n",
      " [4. 5. 6.]\n",
      " [7. 8. 0.]]\n",
      "[['1' '2' '3']\n",
      " ['4' '5' '6']\n",
      " ['7' '8' '0']]\n",
      "[[ True  True  True]\n",
      " [ True  True  True]\n",
      " [ True  True False]]\n",
      "[[1 2 3]\n",
      " [4 5 6]\n",
      " [7 8 0]]\n"
     ]
    }
   ],
   "source": [
    "# Create an 1d array from a list of list\n",
    "list2 = [[1,2,3], [4,5,6], [7,8,0]]\n",
    "arr2 = np.array(list2)\n",
    "print(arr2)\n",
    "print(type(arr2))\n",
    "\n",
    "# Create a float 2d array\n",
    "arr2f = np.array(list2, dtype='float')\n",
    "print(arr2f)\n",
    "\n",
    "# Create a string 2d array\n",
    "arr2s = np.array(list2, dtype='str')\n",
    "print(arr2s)\n",
    "\n",
    "# Create a bool 2d array\n",
    "arr2b = np.array(list2, dtype='bool')\n",
    "print(arr2b)\n",
    "\n",
    "# Convert to 'int' datatype\n",
    "arr2i = arr2f.astype('int')\n",
    "print(arr2i)"
   ]
  },
  {
   "cell_type": "code",
   "execution_count": 81,
   "metadata": {},
   "outputs": [
    {
     "name": "stdout",
     "output_type": "stream",
     "text": [
      "[1 2 'a' 'b']\n",
      "<class 'numpy.ndarray'>\n",
      "[1, 2, 'a', 'b']\n",
      "<class 'list'>\n"
     ]
    }
   ],
   "source": [
    "# Create an object array to hold numbers as well as strings\n",
    "listo = [1,2,'a','b']\n",
    "arro = np.array(listo, dtype='object')\n",
    "print(arro)\n",
    "print(type(arro))\n",
    "\n",
    "# convert array back to list\n",
    "listo1 = arro.tolist()\n",
    "print(listo1)\n",
    "print(type(listo1))"
   ]
  },
  {
   "cell_type": "code",
   "execution_count": 82,
   "metadata": {},
   "outputs": [
    {
     "name": "stdout",
     "output_type": "stream",
     "text": [
      "1\n",
      "2\n",
      "1\n",
      "(6,)\n",
      "(3, 3)\n",
      "6\n",
      "9\n"
     ]
    }
   ],
   "source": [
    "# inspect size and shape of an array\n",
    "\n",
    "# If it is a 1D or a 2D array or more\n",
    "print(arr1.ndim)\n",
    "print(arr2.ndim)\n",
    "print(arro.ndim)\n",
    "\n",
    "# How many items are present in each dimension\n",
    "print(arr1.shape)\n",
    "print(arr2.shape)\n",
    "\n",
    "# What is the total number of items in it\n",
    "print(arr1.size)\n",
    "print(arr2.size)"
   ]
  },
  {
   "cell_type": "code",
   "execution_count": 83,
   "metadata": {},
   "outputs": [
    {
     "name": "stdout",
     "output_type": "stream",
     "text": [
      "[[1. 2. 3. 4.]\n",
      " [3. 4. 5. 6.]\n",
      " [5. 6. 7. 8.]]\n",
      "[[False False False False]\n",
      " [False False  True  True]\n",
      " [ True  True  True  True]]\n"
     ]
    },
    {
     "data": {
      "text/plain": [
       "array([5., 6., 5., 6., 7., 8.])"
      ]
     },
     "execution_count": 83,
     "metadata": {},
     "output_type": "execute_result"
    }
   ],
   "source": [
    "# how to extract specific items or portion in array\n",
    "list2 = [[1, 2, 3, 4],[3, 4, 5, 6], [5, 6, 7, 8]]\n",
    "arr2 = np.array(list2, dtype='float')\n",
    "print(arr2)\n",
    "# Extract the first 2 rows and columns\n",
    "arr2[:1, :1]\n",
    "\n",
    "# Get the boolean output by applying the condition to each element.\n",
    "b = arr2 > 4\n",
    "print(b)\n",
    "\n",
    "arr2[b]"
   ]
  },
  {
   "cell_type": "code",
   "execution_count": 84,
   "metadata": {},
   "outputs": [
    {
     "name": "stdout",
     "output_type": "stream",
     "text": [
      "[[5. 6. 7. 8.]\n",
      " [3. 4. 5. 6.]\n",
      " [1. 2. 3. 4.]]\n",
      "[[8. 7. 6. 5.]\n",
      " [6. 5. 4. 3.]\n",
      " [4. 3. 2. 1.]]\n",
      "[[1. 2. 3. 4.]\n",
      " [3. 4. 5. 6.]\n",
      " [5. 6. 7. 8.]]\n"
     ]
    }
   ],
   "source": [
    "# Reverse only the row positions\n",
    "print(arr2[::-1, ])\n",
    "\n",
    "# Reverse the row and column positions\n",
    "print(arr2[::-1, ::-1])\n",
    "print(arr2)"
   ]
  },
  {
   "cell_type": "code",
   "execution_count": 85,
   "metadata": {},
   "outputs": [
    {
     "name": "stdout",
     "output_type": "stream",
     "text": [
      "4.0\n",
      "5.0\n",
      "[[False False False False]\n",
      " [False  True  True False]\n",
      " [False False False False]]\n",
      "[[ 1.  2.  3.  4.]\n",
      " [ 3. -1. -1.  6.]\n",
      " [ 5.  6.  7.  8.]]\n"
     ]
    }
   ],
   "source": [
    "# Insert a nan and an inf\n",
    "print(arr2[1,1])\n",
    "print(arr2[1,2])\n",
    "arr2[1,1] = np.nan  # not a number\n",
    "arr2[1,2] = np.inf  # infinite\n",
    "\n",
    "# Replace nan and inf with -1. Don't use arr2 == np.nan\n",
    "missing_bool = np.isnan(arr2) | np.isinf(arr2)\n",
    "print(missing_bool)\n",
    "arr2[missing_bool] = -1  \n",
    "print(arr2)"
   ]
  },
  {
   "cell_type": "code",
   "execution_count": 75,
   "metadata": {},
   "outputs": [
    {
     "name": "stdout",
     "output_type": "stream",
     "text": [
      "Mean  3.5833333333333335\n",
      "Max  8.0\n",
      "Min  -1.0\n",
      "Mean row wsie  [2.5  1.75 6.5 ]\n",
      "Mean column wise  [3.         2.33333333 3.         6.        ]\n",
      "[ 1.  3.  6. 10. 13. 12. 11. 17. 22. 28. 35. 43.]\n"
     ]
    }
   ],
   "source": [
    "# mean, max and min\n",
    "print(\"Mean \", arr2.mean())\n",
    "print(\"Max \", arr2.max())\n",
    "print(\"Min \", arr2.min())\n",
    "\n",
    "print(\"Mean row wsie \", arr2.mean(axis=1))\n",
    "print(\"Mean column wise \", arr2.mean(axis=0))\n",
    "\n",
    "# cumulutive sum\n",
    "print(np.cumsum(arr2))"
   ]
  },
  {
   "cell_type": "code",
   "execution_count": 87,
   "metadata": {},
   "outputs": [
    {
     "name": "stdout",
     "output_type": "stream",
     "text": [
      "[[100.   2.]\n",
      " [  3.  -1.]]\n",
      "[[100.]]\n",
      "[[100.   2.   3.   4.]\n",
      " [  3.  -1.  -1.   6.]\n",
      " [  5.   6.   7.   8.]]\n"
     ]
    },
    {
     "data": {
      "text/plain": [
       "array([[100.,   2.,   3.,   4.],\n",
       "       [  3.,  -1.,  -1.,   6.],\n",
       "       [  5.,   6.,   7.,   8.]])"
      ]
     },
     "execution_count": 87,
     "metadata": {},
     "output_type": "execute_result"
    }
   ],
   "source": [
    "# Assign portion of arr2 to arr2a. Doesn't really create a new array.\n",
    "arr2a = arr2[:2,:2]  \n",
    "print(arr2a)\n",
    "print(arr2a[:1, :1])\n",
    "arr2a[:1, :1] = 100  # 100 will reflect in arr2\n",
    "print(arr2)\n",
    "\n",
    "# Copy portion of arr2 to arr2b\n",
    "arr2b = arr2[:2, :2].copy()\n",
    "arr2b[:1, :1] = 101  # 101 will not reflect in arr2\n",
    "arr2"
   ]
  },
  {
   "cell_type": "code",
   "execution_count": 91,
   "metadata": {},
   "outputs": [
    {
     "name": "stdout",
     "output_type": "stream",
     "text": [
      "[100.   2.   3.   4.   3.  -1.  -1.   6.   5.   6.   7.   8.]\n",
      "[[100.   2.   3.   4.]\n",
      " [  3.  -1.  -1.   6.]\n",
      " [  5.   6.   7.   8.]]\n",
      "[100.   2.   3.   4. 300.  -1.  -1.   6.   5.   6.   7.   8.]\n",
      "[[100.   2.   3.   4.]\n",
      " [300.  -1.  -1.   6.]\n",
      " [  5.   6.   7.   8.]]\n"
     ]
    }
   ],
   "source": [
    "# Flatten it to a 1d array\n",
    "arr2flatten = arr2.flatten()\n",
    "print(arr2flatten)\n",
    "print(arr2)\n",
    "\n",
    "arr2ravel = arr2.ravel()\n",
    "arr2ravel[4] = 300\n",
    "print(arr2ravel)\n",
    "print(arr2)\n"
   ]
  },
  {
   "cell_type": "code",
   "execution_count": 98,
   "metadata": {},
   "outputs": [
    {
     "data": {
      "text/plain": [
       "array([20, 18, 16, 14, 12, 10,  8,  6,  4,  2])"
      ]
     },
     "execution_count": 98,
     "metadata": {},
     "output_type": "execute_result"
    }
   ],
   "source": [
    "# Lower limit is 0 be default\n",
    "np.arange(10)\n",
    "\n",
    "# 0 to 19\n",
    "np.arange(0,20)\n",
    "\n",
    "# 0 to 19 with step of 2\n",
    "np.arange(0,20, 2)\n",
    "\n",
    "# 0 to 19 decresing order step as -2\n",
    "np.arange(20,0,-2)"
   ]
  },
  {
   "cell_type": "code",
   "execution_count": 116,
   "metadata": {},
   "outputs": [
    {
     "name": "stdout",
     "output_type": "stream",
     "text": [
      "[ 1.          6.66666667 12.33333333 18.         23.66666667 29.33333333\n",
      " 35.         40.66666667 46.33333333 52.        ]\n",
      "[ 1  5  9 13 18 22 26 30 35 39 43 47 52]\n"
     ]
    },
    {
     "data": {
      "text/plain": [
       "array([[1., 1., 1., 1.],\n",
       "       [1., 1., 1., 1.],\n",
       "       [1., 1., 1., 1.]])"
      ]
     },
     "execution_count": 116,
     "metadata": {},
     "output_type": "execute_result"
    }
   ],
   "source": [
    "# you want to create an array of exactly 10 numbers between 1 and 50, Can you compute what would be the step value?\n",
    "# Start at 1 and end at 50\n",
    "print(np.linspace(start=1, stop=52, num=10, dtype=float))\n",
    "print(np.linspace(start=1, stop=52, num=13, dtype=int))\n",
    "\n",
    "# Start at 10^1 and end at 10^50\n",
    "np.logspace(start=1, stop=50, num=10, base=10) \n",
    "\n",
    "np.zeros([2,3])\n",
    "np.ones([3,4])\n"
   ]
  },
  {
   "cell_type": "code",
   "execution_count": 121,
   "metadata": {},
   "outputs": [
    {
     "name": "stdout",
     "output_type": "stream",
     "text": [
      "[[1, 2, 3], [4, 5, 6]]\n"
     ]
    },
    {
     "data": {
      "text/plain": [
       "array([1, 1, 1, 1, 2, 2, 2, 2, 3, 3, 3, 3, 4, 4, 4, 4, 5, 5, 5, 5, 6, 6,\n",
       "       6, 6])"
      ]
     },
     "execution_count": 121,
     "metadata": {},
     "output_type": "execute_result"
    }
   ],
   "source": [
    "a = [[1,2,3],[4,5,6]]\n",
    "np.tile(a,3)\n",
    "print(a)\n",
    "np.repeat(a,4)"
   ]
  },
  {
   "cell_type": "code",
   "execution_count": 133,
   "metadata": {},
   "outputs": [
    {
     "name": "stdout",
     "output_type": "stream",
     "text": [
      "[[0.59982462 0.02961984]\n",
      " [0.71563601 0.71979837]]\n",
      "[[5 2 2 2 3]\n",
      " [4 4 3 2 2]]\n",
      "[5 2 5 4 2 4 3 4 3 4 5 4 4 5 2]\n"
     ]
    }
   ],
   "source": [
    "# Generate Random Numbers between 0 and 1 \n",
    "# or\n",
    "# Normal distribution with mean=0 and variance=1 of shape 2,2\n",
    "print(np.random.rand(2,2))\n",
    "\n",
    "# Random integers between [0, 10) of shape 2,2\n",
    "print(np.random.randint(2,6,size=[2,5]))\n",
    "print(np.random.randint(2,6,size=[15]))"
   ]
  },
  {
   "cell_type": "code",
   "execution_count": 141,
   "metadata": {},
   "outputs": [
    {
     "name": "stdout",
     "output_type": "stream",
     "text": [
      "['u' 'i' 'e' 'i' 'u' 'o' 'o' 'e' 'a' 'a']\n",
      "['o' 'o' 'i' 'a' 'a' 'a' 'i' 'a' 'o' 'a']\n"
     ]
    }
   ],
   "source": [
    "# Pick 10 items from a given list, with equal probability\n",
    "print(np.random.choice(['a', 'e', 'i', 'o', 'u'], size=10))  \n",
    "\n",
    "# Pick 10 items from a given list with a predefined probability 'p'\n",
    "print(np.random.choice(['a', 'e', 'i', 'o', 'u'], size=10, p=[0.3, .1, 0.1, 0.4, 0.1])) "
   ]
  },
  {
   "cell_type": "code",
   "execution_count": 151,
   "metadata": {},
   "outputs": [
    {
     "name": "stdout",
     "output_type": "stream",
     "text": [
      "[[0.77132064 0.02075195]\n",
      " [0.63364823 0.74880388]]\n",
      "[[0.18026969 0.01947524]\n",
      " [0.46321853 0.72493393]]\n"
     ]
    }
   ],
   "source": [
    "# Create the Random State\n",
    "rn = np.random.RandomState(10)\n",
    "\n",
    "# create random numbers between 0 and 2 with shape 2,2\n",
    "print(rn.rand(2,2))\n",
    "\n",
    "# OR\n",
    "\n",
    "# Create the random seed\n",
    "np.random.seed(11)\n",
    "\n",
    "print(np.random.rand(2,2))"
   ]
  },
  {
   "cell_type": "code",
   "execution_count": 152,
   "metadata": {},
   "outputs": [
    {
     "name": "stdout",
     "output_type": "stream",
     "text": [
      "[8 8 3 7 7 0 4 2 5 2]\n",
      "Unique items :  [0 2 3 4 5 7 8]\n",
      "Counts       :  [1 2 1 1 1 2 2]\n"
     ]
    }
   ],
   "source": [
    "# Unique Items and count\n",
    "# Create random integers of size 10 between [0,10)\n",
    "np.random.seed(100)\n",
    "arr_rand = np.random.randint(0, 10, size=10)\n",
    "print(arr_rand)\n",
    "\n",
    "# Get the unique items and their counts\n",
    "uniqs, counts = np.unique(arr_rand, return_counts=True)\n",
    "print(\"Unique items : \", uniqs)\n",
    "print(\"Counts       : \", counts)"
   ]
  },
  {
   "cell_type": "markdown",
   "metadata": {},
   "source": [
    "# Advanced Numpy"
   ]
  },
  {
   "cell_type": "code",
   "execution_count": 153,
   "metadata": {},
   "outputs": [
    {
     "name": "stdout",
     "output_type": "stream",
     "text": [
      "Array:  [8 8 3 7 7 0 4 2 5 2]\n"
     ]
    }
   ],
   "source": [
    "# Getindex location that satisfy a given condition\n",
    "# Create an array\n",
    "import numpy as np\n",
    "arr_rand = np.array([8, 8, 3, 7, 7, 0, 4, 2, 5, 2])\n",
    "print(\"Array: \", arr_rand)"
   ]
  },
  {
   "cell_type": "code",
   "execution_count": 156,
   "metadata": {},
   "outputs": [
    {
     "name": "stdout",
     "output_type": "stream",
     "text": [
      "Positions where value > 5:  (array([0, 1, 3, 4], dtype=int64),)\n",
      "[[8 8 7 7]]\n"
     ]
    },
    {
     "data": {
      "text/plain": [
       "array([[3, 0, 4, 2, 2]])"
      ]
     },
     "execution_count": 156,
     "metadata": {},
     "output_type": "execute_result"
    }
   ],
   "source": [
    "# Positions where value > 5\n",
    "index_gt5 = np.where(arr_rand > 5)\n",
    "print(\"Positions where value > 5: \", index_gt5)\n",
    "# Take items at given index\n",
    "print(arr_rand.take(index_gt5))\n",
    "\n",
    "# Take items at given index\n",
    "arr_rand.take(np.where(arr_rand < 5))"
   ]
  },
  {
   "cell_type": "code",
   "execution_count": 161,
   "metadata": {},
   "outputs": [
    {
     "name": "stdout",
     "output_type": "stream",
     "text": [
      "Max value postion =  0\n",
      "Min value postion =  5\n"
     ]
    }
   ],
   "source": [
    "# Find location of Max and Min values\n",
    "print(\"Max value postion = \", np.argmax(arr_rand))\n",
    "print(\"Min value postion = \", np.argmin(arr_rand))"
   ]
  },
  {
   "cell_type": "code",
   "execution_count": 175,
   "metadata": {},
   "outputs": [
    {
     "name": "stderr",
     "output_type": "stream",
     "text": [
      "C:\\Users\\vaibhav.javadekar\\AppData\\Local\\Continuum\\anaconda3\\lib\\site-packages\\ipykernel_launcher.py:6: VisibleDeprecationWarning: Reading unicode strings without specifying the encoding argument is deprecated. Set the encoding, use None for the system default.\n",
      "  \n"
     ]
    },
    {
     "data": {
      "text/plain": [
       "array([(18., 8, 307., 130, 3504, 12. , 70, 1, b'\"chevrolet chevelle malibu\"'),\n",
       "       (15., 8, 350., 165, 3693, 11.5, 70, 1, b'\"buick skylark 320\"'),\n",
       "       (18., 8, 318., 150, 3436, 11. , 70, 1, b'\"plymouth satellite\"')],\n",
       "      dtype=[('f0', '<f8'), ('f1', '<i4'), ('f2', '<f8'), ('f3', '<i4'), ('f4', '<i4'), ('f5', '<f8'), ('f6', '<i4'), ('f7', '<i4'), ('f8', 'S38')])"
      ]
     },
     "execution_count": 175,
     "metadata": {},
     "output_type": "execute_result"
    }
   ],
   "source": [
    "# Turn off scientific notation\n",
    "np.set_printoptions(suppress=True)  \n",
    "\n",
    "# Import data from csv file url\n",
    "path = 'https://raw.githubusercontent.com/selva86/datasets/master/Auto.csv'\n",
    "data = np.genfromtxt(path, delimiter=',', skip_header=1, filling_values=-999, dtype=None)\n",
    "data[:3]  # see first 3 rows"
   ]
  },
  {
   "cell_type": "code",
   "execution_count": 183,
   "metadata": {},
   "outputs": [
    {
     "name": "stdout",
     "output_type": "stream",
     "text": [
      "[[0. 0. 0. 0.]\n",
      " [0. 0. 0. 0.]\n",
      " [0. 0. 0. 0.]\n",
      " [0. 0. 0. 0.]]\n",
      "[[1. 1. 1. 1.]\n",
      " [1. 1. 1. 1.]\n",
      " [1. 1. 1. 1.]\n",
      " [1. 1. 1. 1.]]\n",
      "[[0. 0. 0. 0. 1. 1. 1. 1.]\n",
      " [0. 0. 0. 0. 1. 1. 1. 1.]\n",
      " [0. 0. 0. 0. 1. 1. 1. 1.]\n",
      " [0. 0. 0. 0. 1. 1. 1. 1.]]\n"
     ]
    },
    {
     "data": {
      "text/plain": [
       "array([[0., 0., 0., 0.],\n",
       "       [0., 0., 0., 0.],\n",
       "       [0., 0., 0., 0.],\n",
       "       [0., 0., 0., 0.],\n",
       "       [1., 1., 1., 1.],\n",
       "       [1., 1., 1., 1.],\n",
       "       [1., 1., 1., 1.],\n",
       "       [1., 1., 1., 1.]])"
      ]
     },
     "execution_count": 183,
     "metadata": {},
     "output_type": "execute_result"
    }
   ],
   "source": [
    "# Concatenate 2 numpy arrays columnwise and rowwise\n",
    "\n",
    "a = np.zeros([4, 4])\n",
    "b = np.ones([4, 4])\n",
    "print(a)\n",
    "print(b)\n",
    "\n",
    "print(np.concatenate([a,b], axis=1))\n",
    "#np.hstack((a,b))\n",
    "np.r_[a,b]"
   ]
  },
  {
   "cell_type": "code",
   "execution_count": 221,
   "metadata": {},
   "outputs": [
    {
     "name": "stdout",
     "output_type": "stream",
     "text": [
      "[[1 1 4 1]\n",
      " [3 5 3 3]\n",
      " [3 3 2 1]\n",
      " [1 5 4 5]\n",
      " [3 1 4 2]\n",
      " [3 4 5 5]\n",
      " [2 4 5 5]\n",
      " [4 4 4 2]]\n"
     ]
    }
   ],
   "source": [
    "# Sort numpy array based on one or more columns\n",
    "\n",
    "# Sort 2d array based on 1st column\n",
    "rn = np.random.RandomState(100)\n",
    "arr = rn.randint(1,6,size=[8,4])\n",
    "#arr = rn.random.randint(1,6,size=[8,4])\n",
    "print(arr)\n",
    "\n"
   ]
  },
  {
   "cell_type": "code",
   "execution_count": 243,
   "metadata": {},
   "outputs": [
    {
     "name": "stdout",
     "output_type": "stream",
     "text": [
      "[[0 0 2 0]\n",
      " [3 4 1 2]\n",
      " [6 2 0 4]\n",
      " [1 5 3 7]\n",
      " [2 6 4 1]\n",
      " [4 7 7 3]\n",
      " [5 1 5 5]\n",
      " [7 3 6 6]]\n",
      "[[1 1 4 1]\n",
      " [1 5 4 5]\n",
      " [2 4 5 5]\n",
      " [3 5 3 3]\n",
      " [3 3 2 1]\n",
      " [3 1 4 2]\n",
      " [3 4 5 5]\n",
      " [4 4 4 2]]\n",
      "[[4 4 4 2]\n",
      " [3 4 5 5]\n",
      " [3 1 4 2]\n",
      " [3 3 2 1]\n",
      " [3 5 3 3]\n",
      " [2 4 5 5]\n",
      " [1 5 4 5]\n",
      " [1 1 4 1]]\n"
     ]
    }
   ],
   "source": [
    "#np.sort(arr, axis = 0)\n",
    "sort_index = np.argsort(arr, axis=0)\n",
    "print(sort_index)\n",
    "\n",
    "# Ascending Order based on 1 column only\n",
    "print(arr[sort_index[::,0]])\n",
    "\n",
    "# Desceinding Order based on 1 column only\n",
    "print(arr[sort_index[::-1,0]])\n"
   ]
  },
  {
   "cell_type": "code",
   "execution_count": 245,
   "metadata": {},
   "outputs": [
    {
     "name": "stdout",
     "output_type": "stream",
     "text": [
      "[[1 1 4 1]\n",
      " [3 1 4 2]\n",
      " [3 3 2 1]\n",
      " [3 4 5 5]\n",
      " [2 4 5 5]\n",
      " [4 4 4 2]\n",
      " [3 5 3 3]\n",
      " [1 5 4 5]]\n",
      "---------------------\n",
      "[[1 5 4 5]\n",
      " [3 5 3 3]\n",
      " [4 4 4 2]\n",
      " [2 4 5 5]\n",
      " [3 4 5 5]\n",
      " [3 3 2 1]\n",
      " [3 1 4 2]\n",
      " [1 1 4 1]]\n"
     ]
    }
   ],
   "source": [
    "# Ascending Order based on 2 column only\n",
    "print(arr[sort_index[::,1]])\n",
    "print(\"---------------------\")\n",
    "# Desceinding Order based on 2 column only\n",
    "print(arr[sort_index[::-1,1]])"
   ]
  },
  {
   "cell_type": "code",
   "execution_count": 246,
   "metadata": {},
   "outputs": [
    {
     "data": {
      "text/plain": [
       "numpy.datetime64('2018-02-04T23:10:10')"
      ]
     },
     "execution_count": 246,
     "metadata": {},
     "output_type": "execute_result"
    }
   ],
   "source": [
    "# Dates in Numpy\n",
    "# Create a datetime64 object\n",
    "date64 = np.datetime64('2018-02-04 23:10:10')\n",
    "date64"
   ]
  },
  {
   "cell_type": "code",
   "execution_count": 248,
   "metadata": {},
   "outputs": [
    {
     "name": "stdout",
     "output_type": "stream",
     "text": [
      "['2018-02-01' '2018-02-02' '2018-02-03' '2018-02-04' '2018-02-05'\n",
      " '2018-02-06' '2018-02-07' '2018-02-08' '2018-02-09']\n"
     ]
    },
    {
     "data": {
      "text/plain": [
       "array([ True,  True, False, False,  True,  True,  True,  True,  True])"
      ]
     },
     "execution_count": 248,
     "metadata": {},
     "output_type": "execute_result"
    }
   ],
   "source": [
    "# Create date sequence\n",
    "dates = np.arange(np.datetime64('2018-02-01'), np.datetime64('2018-02-10'))\n",
    "print(dates)\n",
    "np.is_busday(dates)"
   ]
  },
  {
   "cell_type": "code",
   "execution_count": 251,
   "metadata": {},
   "outputs": [
    {
     "name": "stdout",
     "output_type": "stream",
     "text": [
      "x = 10 returns  5.0\n",
      "x = 11 returns  121\n"
     ]
    },
    {
     "data": {
      "text/plain": [
       "array([  5.,   6., 169.,   7.])"
      ]
     },
     "execution_count": 251,
     "metadata": {},
     "output_type": "execute_result"
    }
   ],
   "source": [
    "# Advance Numpy Functions\n",
    "\n",
    "# Define a scalar function\n",
    "def foo(x):\n",
    "    if x % 2 == 1:\n",
    "        return x**2\n",
    "    else:\n",
    "        return x/2\n",
    "\n",
    "# On a scalar\n",
    "print('x = 10 returns ', foo(10))\n",
    "print('x = 11 returns ', foo(11))    \n",
    "\n",
    "# On a vector, doesn't work\n",
    "#print('x = [10, 11, 12] returns ', foo([10, 11, 12]))  # Error \n",
    "\n",
    "fooVectorized = np.vectorize(foo)\n",
    "fooVectorized([10,12,13,14])"
   ]
  },
  {
   "cell_type": "code",
   "execution_count": 255,
   "metadata": {},
   "outputs": [
    {
     "name": "stdout",
     "output_type": "stream",
     "text": [
      "[[1 1 4 1]\n",
      " [3 5 3 3]\n",
      " [3 3 2 1]\n",
      " [1 5 4 5]\n",
      " [3 1 4 2]\n",
      " [3 4 5 5]\n",
      " [2 4 5 5]\n",
      " [4 4 4 2]]\n"
     ]
    },
    {
     "data": {
      "text/plain": [
       "array([[ 1,  1,  2,  1],\n",
       "       [ 9, 25,  9,  9],\n",
       "       [ 9,  9,  1,  1],\n",
       "       [ 1, 25,  2, 25],\n",
       "       [ 9,  1,  2,  1],\n",
       "       [ 9,  2, 25, 25],\n",
       "       [ 1,  2, 25, 25],\n",
       "       [ 2,  2,  2,  1]])"
      ]
     },
     "execution_count": 255,
     "metadata": {},
     "output_type": "execute_result"
    }
   ],
   "source": [
    "# Apply a function column wise or row wise\n",
    "\n",
    "print(arr)\n",
    "\n",
    "# Row wise\n",
    "np.apply_along_axis(fooVectorized, axis = 1, arr=arr)"
   ]
  },
  {
   "cell_type": "code",
   "execution_count": 256,
   "metadata": {},
   "outputs": [
    {
     "name": "stdout",
     "output_type": "stream",
     "text": [
      "[0 1 2 3 4 5 6 7 8 9]\n",
      "Where should 5 be inserted?:  5\n",
      "Where should 5 be inserted (right)?:  6\n"
     ]
    }
   ],
   "source": [
    "# Find the location to insert so the array will remain sorted\n",
    "\n",
    "x = np.arange(10)\n",
    "print(x)\n",
    "print('Where should 5 be inserted?: ', np.searchsorted(x, 5))\n",
    "print('Where should 5 be inserted (right)?: ', np.searchsorted(x, 5, side='right'))"
   ]
  },
  {
   "cell_type": "code",
   "execution_count": 257,
   "metadata": {},
   "outputs": [
    {
     "name": "stdout",
     "output_type": "stream",
     "text": [
      "Original array:  [0 1 2 3 4]\n",
      "x_col shape:  (5, 1)\n",
      "[[0]\n",
      " [1]\n",
      " [2]\n",
      " [3]\n",
      " [4]]\n",
      "x_row shape:  (1, 5)\n",
      "[[0 1 2 3 4]]\n"
     ]
    }
   ],
   "source": [
    "# Create a 1D array\n",
    "x = np.arange(5)\n",
    "print('Original array: ', x)\n",
    "\n",
    "# Introduce a new column axis\n",
    "x_col = x[:, np.newaxis]\n",
    "print('x_col shape: ', x_col.shape)\n",
    "print(x_col)\n",
    "\n",
    "# Introduce a new row axis\n",
    "x_row = x[np.newaxis, :]\n",
    "print('x_row shape: ', x_row.shape)\n",
    "print(x_row)"
   ]
  },
  {
   "cell_type": "code",
   "execution_count": 264,
   "metadata": {},
   "outputs": [
    {
     "name": "stdout",
     "output_type": "stream",
     "text": [
      "[6 2 6 2 4 8 4 6 6 1]\n"
     ]
    },
    {
     "data": {
      "text/plain": [
       "array([3, 1, 3, 1, 2, 3, 2, 3, 3, 1], dtype=int64)"
      ]
     },
     "execution_count": 264,
     "metadata": {},
     "output_type": "execute_result"
    }
   ],
   "source": [
    "# Create the array and bins\n",
    "x = np.random.randint(1,10, size=10)\n",
    "print(x)\n",
    "bins = np.array([0, 3, 6, 9])\n",
    "\n",
    "# Get bin allotments\n",
    "np.digitize(x, bins)"
   ]
  },
  {
   "cell_type": "code",
   "execution_count": 265,
   "metadata": {},
   "outputs": [
    {
     "data": {
      "text/plain": [
       "array([6, 3, 6, 3, 4, 8, 4, 6, 6, 3])"
      ]
     },
     "execution_count": 265,
     "metadata": {},
     "output_type": "execute_result"
    }
   ],
   "source": [
    "# Cap all elements of x to lie between 3 and 8\n",
    "np.clip(x, 3, 8)"
   ]
  },
  {
   "cell_type": "code",
   "execution_count": 267,
   "metadata": {},
   "outputs": [
    {
     "name": "stdout",
     "output_type": "stream",
     "text": [
      "[0 2 3 0 2 1 3]\n",
      "Counts:  [2 3 3 3]\n",
      "Bins:  [0 2 4 6 8]\n"
     ]
    }
   ],
   "source": [
    "# Bincount example\n",
    "x = np.array([1,1,2,2,2,4,4,5,6,6,6]) # doesn't need to be sorted\n",
    "print(np.bincount(x)) # 0 occurs 0 times, 1 occurs 2 times, 2 occurs thrice, 3 occurs 0 times, ...\n",
    "\n",
    "# Histogram example\n",
    "counts, bins = np.histogram(x, [0, 2, 4, 6, 8])\n",
    "print('Counts: ', counts)\n",
    "print('Bins: ', bins)"
   ]
  }
 ],
 "metadata": {
  "kernelspec": {
   "display_name": "Python 3",
   "language": "python",
   "name": "python3"
  },
  "language_info": {
   "codemirror_mode": {
    "name": "ipython",
    "version": 3
   },
   "file_extension": ".py",
   "mimetype": "text/x-python",
   "name": "python",
   "nbconvert_exporter": "python",
   "pygments_lexer": "ipython3",
   "version": "3.7.3"
  }
 },
 "nbformat": 4,
 "nbformat_minor": 2
}
